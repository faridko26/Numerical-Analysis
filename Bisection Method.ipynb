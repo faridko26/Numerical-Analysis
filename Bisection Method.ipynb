{
 "cells": [
  {
   "cell_type": "code",
   "execution_count": 1,
   "metadata": {},
   "outputs": [
    {
     "name": "stdout",
     "output_type": "stream",
     "text": [
      "\n",
      "\n",
      "----- BISECTION METHOD -----\n"
     ]
    },
    {
     "ename": "UnboundLocalError",
     "evalue": "local variable 'p1' referenced before assignment",
     "output_type": "error",
     "traceback": [
      "\u001b[0;31m---------------------------------------------------------------------------\u001b[0m",
      "\u001b[0;31mUnboundLocalError\u001b[0m                         Traceback (most recent call last)",
      "\u001b[0;32m/var/folders/20/lsb2tpd564b3r74jb_kt91b40000gn/T/ipykernel_19633/144116203.py\u001b[0m in \u001b[0;36m<module>\u001b[0;34m\u001b[0m\n\u001b[1;32m     37\u001b[0m \u001b[0;32melse\u001b[0m\u001b[0;34m:\u001b[0m\u001b[0;34m\u001b[0m\u001b[0;34m\u001b[0m\u001b[0m\n\u001b[1;32m     38\u001b[0m     \u001b[0mprint\u001b[0m\u001b[0;34m(\u001b[0m\u001b[0;34m'\\n\\n----- BISECTION METHOD -----'\u001b[0m\u001b[0;34m)\u001b[0m\u001b[0;34m\u001b[0m\u001b[0;34m\u001b[0m\u001b[0m\n\u001b[0;32m---> 39\u001b[0;31m     \u001b[0mbisection\u001b[0m\u001b[0;34m(\u001b[0m\u001b[0ma1\u001b[0m\u001b[0;34m,\u001b[0m\u001b[0mb1\u001b[0m\u001b[0;34m,\u001b[0m\u001b[0merror\u001b[0m\u001b[0;34m)\u001b[0m\u001b[0;34m\u001b[0m\u001b[0;34m\u001b[0m\u001b[0m\n\u001b[0m",
      "\u001b[0;32m/var/folders/20/lsb2tpd564b3r74jb_kt91b40000gn/T/ipykernel_19633/144116203.py\u001b[0m in \u001b[0;36mbisection\u001b[0;34m(a1, b1, error)\u001b[0m\n\u001b[1;32m     10\u001b[0m     \u001b[0mstep\u001b[0m \u001b[0;34m=\u001b[0m \u001b[0;36m1\u001b[0m\u001b[0;34m\u001b[0m\u001b[0;34m\u001b[0m\u001b[0m\n\u001b[1;32m     11\u001b[0m     \u001b[0;31m#condition = True\u001b[0m\u001b[0;34m\u001b[0m\u001b[0;34m\u001b[0m\u001b[0m\n\u001b[0;32m---> 12\u001b[0;31m     \u001b[0;32mwhile\u001b[0m \u001b[0mabs\u001b[0m\u001b[0;34m(\u001b[0m\u001b[0mf\u001b[0m\u001b[0;34m(\u001b[0m\u001b[0mp1\u001b[0m\u001b[0;34m)\u001b[0m\u001b[0;34m)\u001b[0m \u001b[0;34m>\u001b[0m \u001b[0merror\u001b[0m\u001b[0;34m:\u001b[0m\u001b[0;34m\u001b[0m\u001b[0;34m\u001b[0m\u001b[0m\n\u001b[0m\u001b[1;32m     13\u001b[0m         \u001b[0mp1\u001b[0m \u001b[0;34m=\u001b[0m \u001b[0;34m(\u001b[0m\u001b[0ma1\u001b[0m \u001b[0;34m+\u001b[0m \u001b[0mb1\u001b[0m\u001b[0;34m)\u001b[0m\u001b[0;34m/\u001b[0m\u001b[0;36m2\u001b[0m\u001b[0;34m\u001b[0m\u001b[0;34m\u001b[0m\u001b[0m\n\u001b[1;32m     14\u001b[0m         \u001b[0mprint\u001b[0m\u001b[0;34m(\u001b[0m\u001b[0;34m'Iteration-%d :   p%d = %0.6f ----> f(p%d) = %0.6f'\u001b[0m \u001b[0;34m%\u001b[0m \u001b[0;34m(\u001b[0m\u001b[0mstep\u001b[0m\u001b[0;34m,\u001b[0m \u001b[0mstep\u001b[0m\u001b[0;34m,\u001b[0m \u001b[0mp1\u001b[0m\u001b[0;34m,\u001b[0m \u001b[0mstep\u001b[0m\u001b[0;34m,\u001b[0m \u001b[0mf\u001b[0m\u001b[0;34m(\u001b[0m\u001b[0mp1\u001b[0m\u001b[0;34m)\u001b[0m\u001b[0;34m)\u001b[0m\u001b[0;34m)\u001b[0m\u001b[0;34m\u001b[0m\u001b[0;34m\u001b[0m\u001b[0m\n",
      "\u001b[0;31mUnboundLocalError\u001b[0m: local variable 'p1' referenced before assignment"
     ]
    }
   ],
   "source": [
    "import math as m\n",
    "\n",
    "# Function\n",
    "def f(x):\n",
    "    y = x - 2*m.sin(x)\n",
    "    return y\n",
    "\n",
    "# Bisection Method\n",
    "def bisection(a1,b1,error):\n",
    "    step = 1\n",
    "    condition = True\n",
    "    while condition:\n",
    "        p1 = (a1 + b1)/2\n",
    "        print('Iteration-%d :   p%d = %0.6f ----> f(p%d) = %0.6f' % (step, step, p1, step, f(p1)))\n",
    "\n",
    "        if f(a1) * f(p1) < 0:\n",
    "            b1 = p1\n",
    "        else:\n",
    "            a1 = p1\n",
    "        \n",
    "        condition = abs(f(p1)) > error\n",
    "        step = step + 1\n",
    "\n",
    "    print('\\nThe accuracy within %f gives the approximate solution: %0.8f' % (error,p1))\n",
    "\n",
    "\n",
    "#Input\n",
    "a1 = float(input('lower bound: '))\n",
    "b1 = float(input('upper bound: '))\n",
    "error = float(input('Error: '))\n",
    "\n",
    "\n",
    "# Checking condition of bisection method\n",
    "if f(a1) * f(b1) > 0.0:\n",
    "    print('The interval do not bracket the root.')\n",
    "    print('Try Again with different interval.')\n",
    "else:\n",
    "    print('\\n\\n----- BISECTION METHOD -----')\n",
    "    bisection(a1,b1,error)"
   ]
  }
 ],
 "metadata": {
  "kernelspec": {
   "display_name": "base",
   "language": "python",
   "name": "python3"
  },
  "language_info": {
   "name": "python",
   "version": "3.9.13"
  },
  "orig_nbformat": 4,
  "vscode": {
   "interpreter": {
    "hash": "40d3a090f54c6569ab1632332b64b2c03c39dcf918b08424e98f38b5ae0af88f"
   }
  }
 },
 "nbformat": 4,
 "nbformat_minor": 2
}
